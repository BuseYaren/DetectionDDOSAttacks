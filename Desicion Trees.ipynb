{
 "cells": [
  {
   "cell_type": "code",
   "execution_count": 1,
   "id": "b2efbf44",
   "metadata": {},
   "outputs": [
    {
     "data": {
      "text/html": [
       "<div>\n",
       "<style scoped>\n",
       "    .dataframe tbody tr th:only-of-type {\n",
       "        vertical-align: middle;\n",
       "    }\n",
       "\n",
       "    .dataframe tbody tr th {\n",
       "        vertical-align: top;\n",
       "    }\n",
       "\n",
       "    .dataframe thead th {\n",
       "        text-align: right;\n",
       "    }\n",
       "</style>\n",
       "<table border=\"1\" class=\"dataframe\">\n",
       "  <thead>\n",
       "    <tr style=\"text-align: right;\">\n",
       "      <th></th>\n",
       "      <th>Destination Port</th>\n",
       "      <th>Flow Duration</th>\n",
       "      <th>Total Fwd Packets</th>\n",
       "      <th>Total Backward Packets</th>\n",
       "      <th>Total Length of Fwd Packets</th>\n",
       "      <th>Total Length of Bwd Packets</th>\n",
       "      <th>Fwd Packet Length Max</th>\n",
       "      <th>Fwd Packet Length Min</th>\n",
       "      <th>Fwd Packet Length Mean</th>\n",
       "      <th>Fwd Packet Length Std</th>\n",
       "      <th>...</th>\n",
       "      <th>min_seg_size_forward</th>\n",
       "      <th>Active Mean</th>\n",
       "      <th>Active Std</th>\n",
       "      <th>Active Max</th>\n",
       "      <th>Active Min</th>\n",
       "      <th>Idle Mean</th>\n",
       "      <th>Idle Std</th>\n",
       "      <th>Idle Max</th>\n",
       "      <th>Idle Min</th>\n",
       "      <th>Label</th>\n",
       "    </tr>\n",
       "  </thead>\n",
       "  <tbody>\n",
       "    <tr>\n",
       "      <th>0</th>\n",
       "      <td>54865</td>\n",
       "      <td>3</td>\n",
       "      <td>2</td>\n",
       "      <td>0</td>\n",
       "      <td>12</td>\n",
       "      <td>0</td>\n",
       "      <td>6</td>\n",
       "      <td>6</td>\n",
       "      <td>6.0</td>\n",
       "      <td>0.0</td>\n",
       "      <td>...</td>\n",
       "      <td>20</td>\n",
       "      <td>0.0</td>\n",
       "      <td>0.0</td>\n",
       "      <td>0</td>\n",
       "      <td>0</td>\n",
       "      <td>0.0</td>\n",
       "      <td>0.0</td>\n",
       "      <td>0</td>\n",
       "      <td>0</td>\n",
       "      <td>BENIGN</td>\n",
       "    </tr>\n",
       "    <tr>\n",
       "      <th>1</th>\n",
       "      <td>55054</td>\n",
       "      <td>109</td>\n",
       "      <td>1</td>\n",
       "      <td>1</td>\n",
       "      <td>6</td>\n",
       "      <td>6</td>\n",
       "      <td>6</td>\n",
       "      <td>6</td>\n",
       "      <td>6.0</td>\n",
       "      <td>0.0</td>\n",
       "      <td>...</td>\n",
       "      <td>20</td>\n",
       "      <td>0.0</td>\n",
       "      <td>0.0</td>\n",
       "      <td>0</td>\n",
       "      <td>0</td>\n",
       "      <td>0.0</td>\n",
       "      <td>0.0</td>\n",
       "      <td>0</td>\n",
       "      <td>0</td>\n",
       "      <td>BENIGN</td>\n",
       "    </tr>\n",
       "    <tr>\n",
       "      <th>2</th>\n",
       "      <td>55055</td>\n",
       "      <td>52</td>\n",
       "      <td>1</td>\n",
       "      <td>1</td>\n",
       "      <td>6</td>\n",
       "      <td>6</td>\n",
       "      <td>6</td>\n",
       "      <td>6</td>\n",
       "      <td>6.0</td>\n",
       "      <td>0.0</td>\n",
       "      <td>...</td>\n",
       "      <td>20</td>\n",
       "      <td>0.0</td>\n",
       "      <td>0.0</td>\n",
       "      <td>0</td>\n",
       "      <td>0</td>\n",
       "      <td>0.0</td>\n",
       "      <td>0.0</td>\n",
       "      <td>0</td>\n",
       "      <td>0</td>\n",
       "      <td>BENIGN</td>\n",
       "    </tr>\n",
       "    <tr>\n",
       "      <th>3</th>\n",
       "      <td>46236</td>\n",
       "      <td>34</td>\n",
       "      <td>1</td>\n",
       "      <td>1</td>\n",
       "      <td>6</td>\n",
       "      <td>6</td>\n",
       "      <td>6</td>\n",
       "      <td>6</td>\n",
       "      <td>6.0</td>\n",
       "      <td>0.0</td>\n",
       "      <td>...</td>\n",
       "      <td>20</td>\n",
       "      <td>0.0</td>\n",
       "      <td>0.0</td>\n",
       "      <td>0</td>\n",
       "      <td>0</td>\n",
       "      <td>0.0</td>\n",
       "      <td>0.0</td>\n",
       "      <td>0</td>\n",
       "      <td>0</td>\n",
       "      <td>BENIGN</td>\n",
       "    </tr>\n",
       "    <tr>\n",
       "      <th>4</th>\n",
       "      <td>54863</td>\n",
       "      <td>3</td>\n",
       "      <td>2</td>\n",
       "      <td>0</td>\n",
       "      <td>12</td>\n",
       "      <td>0</td>\n",
       "      <td>6</td>\n",
       "      <td>6</td>\n",
       "      <td>6.0</td>\n",
       "      <td>0.0</td>\n",
       "      <td>...</td>\n",
       "      <td>20</td>\n",
       "      <td>0.0</td>\n",
       "      <td>0.0</td>\n",
       "      <td>0</td>\n",
       "      <td>0</td>\n",
       "      <td>0.0</td>\n",
       "      <td>0.0</td>\n",
       "      <td>0</td>\n",
       "      <td>0</td>\n",
       "      <td>BENIGN</td>\n",
       "    </tr>\n",
       "    <tr>\n",
       "      <th>...</th>\n",
       "      <td>...</td>\n",
       "      <td>...</td>\n",
       "      <td>...</td>\n",
       "      <td>...</td>\n",
       "      <td>...</td>\n",
       "      <td>...</td>\n",
       "      <td>...</td>\n",
       "      <td>...</td>\n",
       "      <td>...</td>\n",
       "      <td>...</td>\n",
       "      <td>...</td>\n",
       "      <td>...</td>\n",
       "      <td>...</td>\n",
       "      <td>...</td>\n",
       "      <td>...</td>\n",
       "      <td>...</td>\n",
       "      <td>...</td>\n",
       "      <td>...</td>\n",
       "      <td>...</td>\n",
       "      <td>...</td>\n",
       "      <td>...</td>\n",
       "    </tr>\n",
       "    <tr>\n",
       "      <th>225740</th>\n",
       "      <td>61374</td>\n",
       "      <td>61</td>\n",
       "      <td>1</td>\n",
       "      <td>1</td>\n",
       "      <td>6</td>\n",
       "      <td>6</td>\n",
       "      <td>6</td>\n",
       "      <td>6</td>\n",
       "      <td>6.0</td>\n",
       "      <td>0.0</td>\n",
       "      <td>...</td>\n",
       "      <td>20</td>\n",
       "      <td>0.0</td>\n",
       "      <td>0.0</td>\n",
       "      <td>0</td>\n",
       "      <td>0</td>\n",
       "      <td>0.0</td>\n",
       "      <td>0.0</td>\n",
       "      <td>0</td>\n",
       "      <td>0</td>\n",
       "      <td>BENIGN</td>\n",
       "    </tr>\n",
       "    <tr>\n",
       "      <th>225741</th>\n",
       "      <td>61378</td>\n",
       "      <td>72</td>\n",
       "      <td>1</td>\n",
       "      <td>1</td>\n",
       "      <td>6</td>\n",
       "      <td>6</td>\n",
       "      <td>6</td>\n",
       "      <td>6</td>\n",
       "      <td>6.0</td>\n",
       "      <td>0.0</td>\n",
       "      <td>...</td>\n",
       "      <td>20</td>\n",
       "      <td>0.0</td>\n",
       "      <td>0.0</td>\n",
       "      <td>0</td>\n",
       "      <td>0</td>\n",
       "      <td>0.0</td>\n",
       "      <td>0.0</td>\n",
       "      <td>0</td>\n",
       "      <td>0</td>\n",
       "      <td>BENIGN</td>\n",
       "    </tr>\n",
       "    <tr>\n",
       "      <th>225742</th>\n",
       "      <td>61375</td>\n",
       "      <td>75</td>\n",
       "      <td>1</td>\n",
       "      <td>1</td>\n",
       "      <td>6</td>\n",
       "      <td>6</td>\n",
       "      <td>6</td>\n",
       "      <td>6</td>\n",
       "      <td>6.0</td>\n",
       "      <td>0.0</td>\n",
       "      <td>...</td>\n",
       "      <td>20</td>\n",
       "      <td>0.0</td>\n",
       "      <td>0.0</td>\n",
       "      <td>0</td>\n",
       "      <td>0</td>\n",
       "      <td>0.0</td>\n",
       "      <td>0.0</td>\n",
       "      <td>0</td>\n",
       "      <td>0</td>\n",
       "      <td>BENIGN</td>\n",
       "    </tr>\n",
       "    <tr>\n",
       "      <th>225743</th>\n",
       "      <td>61323</td>\n",
       "      <td>48</td>\n",
       "      <td>2</td>\n",
       "      <td>0</td>\n",
       "      <td>12</td>\n",
       "      <td>0</td>\n",
       "      <td>6</td>\n",
       "      <td>6</td>\n",
       "      <td>6.0</td>\n",
       "      <td>0.0</td>\n",
       "      <td>...</td>\n",
       "      <td>20</td>\n",
       "      <td>0.0</td>\n",
       "      <td>0.0</td>\n",
       "      <td>0</td>\n",
       "      <td>0</td>\n",
       "      <td>0.0</td>\n",
       "      <td>0.0</td>\n",
       "      <td>0</td>\n",
       "      <td>0</td>\n",
       "      <td>BENIGN</td>\n",
       "    </tr>\n",
       "    <tr>\n",
       "      <th>225744</th>\n",
       "      <td>61326</td>\n",
       "      <td>68</td>\n",
       "      <td>1</td>\n",
       "      <td>1</td>\n",
       "      <td>6</td>\n",
       "      <td>6</td>\n",
       "      <td>6</td>\n",
       "      <td>6</td>\n",
       "      <td>6.0</td>\n",
       "      <td>0.0</td>\n",
       "      <td>...</td>\n",
       "      <td>20</td>\n",
       "      <td>0.0</td>\n",
       "      <td>0.0</td>\n",
       "      <td>0</td>\n",
       "      <td>0</td>\n",
       "      <td>0.0</td>\n",
       "      <td>0.0</td>\n",
       "      <td>0</td>\n",
       "      <td>0</td>\n",
       "      <td>BENIGN</td>\n",
       "    </tr>\n",
       "  </tbody>\n",
       "</table>\n",
       "<p>225745 rows × 79 columns</p>\n",
       "</div>"
      ],
      "text/plain": [
       "         Destination Port   Flow Duration   Total Fwd Packets  \\\n",
       "0                   54865               3                   2   \n",
       "1                   55054             109                   1   \n",
       "2                   55055              52                   1   \n",
       "3                   46236              34                   1   \n",
       "4                   54863               3                   2   \n",
       "...                   ...             ...                 ...   \n",
       "225740              61374              61                   1   \n",
       "225741              61378              72                   1   \n",
       "225742              61375              75                   1   \n",
       "225743              61323              48                   2   \n",
       "225744              61326              68                   1   \n",
       "\n",
       "         Total Backward Packets  Total Length of Fwd Packets  \\\n",
       "0                             0                           12   \n",
       "1                             1                            6   \n",
       "2                             1                            6   \n",
       "3                             1                            6   \n",
       "4                             0                           12   \n",
       "...                         ...                          ...   \n",
       "225740                        1                            6   \n",
       "225741                        1                            6   \n",
       "225742                        1                            6   \n",
       "225743                        0                           12   \n",
       "225744                        1                            6   \n",
       "\n",
       "         Total Length of Bwd Packets   Fwd Packet Length Max  \\\n",
       "0                                  0                       6   \n",
       "1                                  6                       6   \n",
       "2                                  6                       6   \n",
       "3                                  6                       6   \n",
       "4                                  0                       6   \n",
       "...                              ...                     ...   \n",
       "225740                             6                       6   \n",
       "225741                             6                       6   \n",
       "225742                             6                       6   \n",
       "225743                             0                       6   \n",
       "225744                             6                       6   \n",
       "\n",
       "         Fwd Packet Length Min   Fwd Packet Length Mean  \\\n",
       "0                            6                      6.0   \n",
       "1                            6                      6.0   \n",
       "2                            6                      6.0   \n",
       "3                            6                      6.0   \n",
       "4                            6                      6.0   \n",
       "...                        ...                      ...   \n",
       "225740                       6                      6.0   \n",
       "225741                       6                      6.0   \n",
       "225742                       6                      6.0   \n",
       "225743                       6                      6.0   \n",
       "225744                       6                      6.0   \n",
       "\n",
       "         Fwd Packet Length Std  ...   min_seg_size_forward  Active Mean  \\\n",
       "0                          0.0  ...                     20          0.0   \n",
       "1                          0.0  ...                     20          0.0   \n",
       "2                          0.0  ...                     20          0.0   \n",
       "3                          0.0  ...                     20          0.0   \n",
       "4                          0.0  ...                     20          0.0   \n",
       "...                        ...  ...                    ...          ...   \n",
       "225740                     0.0  ...                     20          0.0   \n",
       "225741                     0.0  ...                     20          0.0   \n",
       "225742                     0.0  ...                     20          0.0   \n",
       "225743                     0.0  ...                     20          0.0   \n",
       "225744                     0.0  ...                     20          0.0   \n",
       "\n",
       "         Active Std   Active Max   Active Min  Idle Mean   Idle Std  \\\n",
       "0               0.0            0            0        0.0        0.0   \n",
       "1               0.0            0            0        0.0        0.0   \n",
       "2               0.0            0            0        0.0        0.0   \n",
       "3               0.0            0            0        0.0        0.0   \n",
       "4               0.0            0            0        0.0        0.0   \n",
       "...             ...          ...          ...        ...        ...   \n",
       "225740          0.0            0            0        0.0        0.0   \n",
       "225741          0.0            0            0        0.0        0.0   \n",
       "225742          0.0            0            0        0.0        0.0   \n",
       "225743          0.0            0            0        0.0        0.0   \n",
       "225744          0.0            0            0        0.0        0.0   \n",
       "\n",
       "         Idle Max   Idle Min   Label  \n",
       "0               0          0  BENIGN  \n",
       "1               0          0  BENIGN  \n",
       "2               0          0  BENIGN  \n",
       "3               0          0  BENIGN  \n",
       "4               0          0  BENIGN  \n",
       "...           ...        ...     ...  \n",
       "225740          0          0  BENIGN  \n",
       "225741          0          0  BENIGN  \n",
       "225742          0          0  BENIGN  \n",
       "225743          0          0  BENIGN  \n",
       "225744          0          0  BENIGN  \n",
       "\n",
       "[225745 rows x 79 columns]"
      ]
     },
     "execution_count": 1,
     "metadata": {},
     "output_type": "execute_result"
    }
   ],
   "source": [
    "import numpy as np # linear algebra\n",
    "import pandas as pd # data processing, CSV file I/O (e.g. pd.read_csv)\n",
    "import os\n",
    "\n",
    "df = pd.read_csv('Friday-WorkingHours-Afternoon-DDos.pcap_ISCX.csv')\n",
    "df"
   ]
  },
  {
   "cell_type": "code",
   "execution_count": 3,
   "id": "86b5a88c",
   "metadata": {},
   "outputs": [],
   "source": [
    "import sys\n",
    "import sklearn"
   ]
  },
  {
   "cell_type": "code",
   "execution_count": 4,
   "id": "2aa52d65",
   "metadata": {},
   "outputs": [
    {
     "name": "stdout",
     "output_type": "stream",
     "text": [
      "Dimensions of the  dataset: (225745, 79)\n"
     ]
    }
   ],
   "source": [
    "print('Dimensions of the  dataset:',df.shape)"
   ]
  },
  {
   "cell_type": "code",
   "execution_count": 5,
   "id": "82e4b711",
   "metadata": {},
   "outputs": [
    {
     "name": "stdout",
     "output_type": "stream",
     "text": [
      "<class 'pandas.core.frame.DataFrame'>\n",
      "RangeIndex: 225745 entries, 0 to 225744\n",
      "Data columns (total 79 columns):\n",
      " #   Column                        Non-Null Count   Dtype  \n",
      "---  ------                        --------------   -----  \n",
      " 0    Destination Port             225745 non-null  int64  \n",
      " 1    Flow Duration                225745 non-null  int64  \n",
      " 2    Total Fwd Packets            225745 non-null  int64  \n",
      " 3    Total Backward Packets       225745 non-null  int64  \n",
      " 4   Total Length of Fwd Packets   225745 non-null  int64  \n",
      " 5    Total Length of Bwd Packets  225745 non-null  int64  \n",
      " 6    Fwd Packet Length Max        225745 non-null  int64  \n",
      " 7    Fwd Packet Length Min        225745 non-null  int64  \n",
      " 8    Fwd Packet Length Mean       225745 non-null  float64\n",
      " 9    Fwd Packet Length Std        225745 non-null  float64\n",
      " 10  Bwd Packet Length Max         225745 non-null  int64  \n",
      " 11   Bwd Packet Length Min        225745 non-null  int64  \n",
      " 12   Bwd Packet Length Mean       225745 non-null  float64\n",
      " 13   Bwd Packet Length Std        225745 non-null  float64\n",
      " 14  Flow Bytes/s                  225741 non-null  float64\n",
      " 15   Flow Packets/s               225745 non-null  float64\n",
      " 16   Flow IAT Mean                225745 non-null  float64\n",
      " 17   Flow IAT Std                 225745 non-null  float64\n",
      " 18   Flow IAT Max                 225745 non-null  int64  \n",
      " 19   Flow IAT Min                 225745 non-null  int64  \n",
      " 20  Fwd IAT Total                 225745 non-null  int64  \n",
      " 21   Fwd IAT Mean                 225745 non-null  float64\n",
      " 22   Fwd IAT Std                  225745 non-null  float64\n",
      " 23   Fwd IAT Max                  225745 non-null  int64  \n",
      " 24   Fwd IAT Min                  225745 non-null  int64  \n",
      " 25  Bwd IAT Total                 225745 non-null  int64  \n",
      " 26   Bwd IAT Mean                 225745 non-null  float64\n",
      " 27   Bwd IAT Std                  225745 non-null  float64\n",
      " 28   Bwd IAT Max                  225745 non-null  int64  \n",
      " 29   Bwd IAT Min                  225745 non-null  int64  \n",
      " 30  Fwd PSH Flags                 225745 non-null  int64  \n",
      " 31   Bwd PSH Flags                225745 non-null  int64  \n",
      " 32   Fwd URG Flags                225745 non-null  int64  \n",
      " 33   Bwd URG Flags                225745 non-null  int64  \n",
      " 34   Fwd Header Length            225745 non-null  int64  \n",
      " 35   Bwd Header Length            225745 non-null  int64  \n",
      " 36  Fwd Packets/s                 225745 non-null  float64\n",
      " 37   Bwd Packets/s                225745 non-null  float64\n",
      " 38   Min Packet Length            225745 non-null  int64  \n",
      " 39   Max Packet Length            225745 non-null  int64  \n",
      " 40   Packet Length Mean           225745 non-null  float64\n",
      " 41   Packet Length Std            225745 non-null  float64\n",
      " 42   Packet Length Variance       225745 non-null  float64\n",
      " 43  FIN Flag Count                225745 non-null  int64  \n",
      " 44   SYN Flag Count               225745 non-null  int64  \n",
      " 45   RST Flag Count               225745 non-null  int64  \n",
      " 46   PSH Flag Count               225745 non-null  int64  \n",
      " 47   ACK Flag Count               225745 non-null  int64  \n",
      " 48   URG Flag Count               225745 non-null  int64  \n",
      " 49   CWE Flag Count               225745 non-null  int64  \n",
      " 50   ECE Flag Count               225745 non-null  int64  \n",
      " 51   Down/Up Ratio                225745 non-null  int64  \n",
      " 52   Average Packet Size          225745 non-null  float64\n",
      " 53   Avg Fwd Segment Size         225745 non-null  float64\n",
      " 54   Avg Bwd Segment Size         225745 non-null  float64\n",
      " 55   Fwd Header Length.1          225745 non-null  int64  \n",
      " 56  Fwd Avg Bytes/Bulk            225745 non-null  int64  \n",
      " 57   Fwd Avg Packets/Bulk         225745 non-null  int64  \n",
      " 58   Fwd Avg Bulk Rate            225745 non-null  int64  \n",
      " 59   Bwd Avg Bytes/Bulk           225745 non-null  int64  \n",
      " 60   Bwd Avg Packets/Bulk         225745 non-null  int64  \n",
      " 61  Bwd Avg Bulk Rate             225745 non-null  int64  \n",
      " 62  Subflow Fwd Packets           225745 non-null  int64  \n",
      " 63   Subflow Fwd Bytes            225745 non-null  int64  \n",
      " 64   Subflow Bwd Packets          225745 non-null  int64  \n",
      " 65   Subflow Bwd Bytes            225745 non-null  int64  \n",
      " 66  Init_Win_bytes_forward        225745 non-null  int64  \n",
      " 67   Init_Win_bytes_backward      225745 non-null  int64  \n",
      " 68   act_data_pkt_fwd             225745 non-null  int64  \n",
      " 69   min_seg_size_forward         225745 non-null  int64  \n",
      " 70  Active Mean                   225745 non-null  float64\n",
      " 71   Active Std                   225745 non-null  float64\n",
      " 72   Active Max                   225745 non-null  int64  \n",
      " 73   Active Min                   225745 non-null  int64  \n",
      " 74  Idle Mean                     225745 non-null  float64\n",
      " 75   Idle Std                     225745 non-null  float64\n",
      " 76   Idle Max                     225745 non-null  int64  \n",
      " 77   Idle Min                     225745 non-null  int64  \n",
      " 78   Label                        225745 non-null  object \n",
      "dtypes: float64(24), int64(54), object(1)\n",
      "memory usage: 136.1+ MB\n"
     ]
    }
   ],
   "source": [
    "df.info()"
   ]
  },
  {
   "cell_type": "code",
   "execution_count": 6,
   "id": "70e07723",
   "metadata": {},
   "outputs": [
    {
     "data": {
      "text/plain": [
       "(225741, 79)"
      ]
     },
     "execution_count": 6,
     "metadata": {},
     "output_type": "execute_result"
    }
   ],
   "source": [
    "dropdf= df.dropna()\n",
    "dropdf.shape"
   ]
  },
  {
   "cell_type": "code",
   "execution_count": 7,
   "id": "aaace842",
   "metadata": {},
   "outputs": [
    {
     "data": {
      "text/plain": [
       "Series([], dtype: bool)"
      ]
     },
     "execution_count": 7,
     "metadata": {},
     "output_type": "execute_result"
    }
   ],
   "source": [
    "dropdf.isna().any()[lambda x:x]"
   ]
  },
  {
   "cell_type": "code",
   "execution_count": 8,
   "id": "286667de",
   "metadata": {},
   "outputs": [],
   "source": [
    "del dropdf['Flow Bytes/s']\n",
    "del dropdf[' Flow Packets/s']"
   ]
  },
  {
   "cell_type": "code",
   "execution_count": 14,
   "id": "3e7a738e",
   "metadata": {},
   "outputs": [
    {
     "data": {
      "text/plain": [
       " Destination Port               54865\n",
       " Flow Duration                      3\n",
       " Total Fwd Packets                  2\n",
       " Total Backward Packets             0\n",
       "Total Length of Fwd Packets        12\n",
       "                                ...  \n",
       "Idle Mean                           0\n",
       " Idle Std                           0\n",
       " Idle Max                           0\n",
       " Idle Min                           0\n",
       " Label                         BENIGN\n",
       "Name: 0, Length: 79, dtype: object"
      ]
     },
     "execution_count": 14,
     "metadata": {},
     "output_type": "execute_result"
    }
   ],
   "source": [
    "df.iloc[0]"
   ]
  },
  {
   "cell_type": "code",
   "execution_count": 16,
   "id": "db4cdc14",
   "metadata": {},
   "outputs": [
    {
     "name": "stdout",
     "output_type": "stream",
     "text": [
      "(180592, 77)\n",
      "(45149, 77)\n"
     ]
    }
   ],
   "source": [
    "from sklearn.model_selection import train_test_split\n",
    "df_train, df_test=train_test_split(dropdf,test_size = 0.20)\n",
    "print(df_train.shape)\n",
    "print(df_test.shape)"
   ]
  },
  {
   "cell_type": "code",
   "execution_count": 17,
   "id": "8df8714b",
   "metadata": {},
   "outputs": [
    {
     "name": "stdout",
     "output_type": "stream",
     "text": [
      "Label distribution Training set:\n",
      "DDoS      102504\n",
      "BENIGN     78088\n",
      "Name:  Label, dtype: int64\n",
      "\n",
      "Label distribution Test set:\n",
      "DDoS      25523\n",
      "BENIGN    19626\n",
      "Name:  Label, dtype: int64\n"
     ]
    }
   ],
   "source": [
    "print('Label distribution Training set:')\n",
    "print(df_train[' Label'].value_counts())\n",
    "print()\n",
    "print('Label distribution Test set:')\n",
    "print(df_test[' Label'].value_counts())"
   ]
  },
  {
   "cell_type": "code",
   "execution_count": 34,
   "id": "a9b692b0",
   "metadata": {},
   "outputs": [
    {
     "name": "stdout",
     "output_type": "stream",
     "text": [
      "82357     1\n",
      "165849    0\n",
      "195170    0\n",
      "16696     0\n",
      "25669     1\n",
      "         ..\n",
      "117498    1\n",
      "70832     0\n",
      "119871    0\n",
      "145484    1\n",
      "148967    1\n",
      "Name:  Label, Length: 180592, dtype: int64\n"
     ]
    }
   ],
   "source": [
    "# Setting the new value\n",
    "\n",
    "labeldf=df_train[' Label']\n",
    "print(labeldf)\n"
   ]
  },
  {
   "cell_type": "code",
   "execution_count": 29,
   "id": "bfc32b04",
   "metadata": {},
   "outputs": [
    {
     "name": "stdout",
     "output_type": "stream",
     "text": [
      "213092    0\n",
      "77480     1\n",
      "86740     0\n",
      "55361     1\n",
      "148583    1\n",
      "         ..\n",
      "109166    1\n",
      "168609    1\n",
      "105911    1\n",
      "8291      0\n",
      "175626    0\n",
      "Name:  Label, Length: 45149, dtype: int64\n"
     ]
    }
   ],
   "source": [
    "labeldf_test=df_test[' Label']\n",
    "print(labeldf_test)\n",
    "#change the label column"
   ]
  },
  {
   "cell_type": "code",
   "execution_count": null,
   "id": "0686be95",
   "metadata": {},
   "outputs": [],
   "source": [
    "newlabeldf_test=labeldf_test.replace({ 'BENIGN' : 0, 'DDoS' : 1 })\n",
    "#print(newlabeldf)\n",
    " \n",
    "df_train[' Label'] = newlabeldf\n",
    "df_test[' Label'] = newlabeldf_test\n",
    "#print(df_train[' Label'])"
   ]
  },
  {
   "cell_type": "code",
   "execution_count": 43,
   "id": "ee560098",
   "metadata": {},
   "outputs": [
    {
     "data": {
      "text/plain": [
       "82357     1\n",
       "165849    0\n",
       "195170    0\n",
       "16696     0\n",
       "25669     1\n",
       "         ..\n",
       "117498    1\n",
       "70832     0\n",
       "119871    0\n",
       "145484    1\n",
       "148967    1\n",
       "Name:  Label, Length: 180592, dtype: int64"
      ]
     },
     "execution_count": 43,
     "metadata": {},
     "output_type": "execute_result"
    }
   ],
   "source": [
    "\n",
    "X_df_train=df_train.drop(' Label',1)\n",
    "Y_df_train=df_train[' Label']\n",
    "X_df_test=df_test.drop(' Label',1)\n",
    "Y_df_test=df_test[' Label']\n",
    "X_df_train\n",
    "Y_df_train"
   ]
  },
  {
   "cell_type": "code",
   "execution_count": 44,
   "id": "7fa8bb64",
   "metadata": {},
   "outputs": [
    {
     "name": "stdout",
     "output_type": "stream",
     "text": [
      "[' Destination Port', ' Flow Duration', ' Total Fwd Packets', ' Total Backward Packets', 'Total Length of Fwd Packets', ' Total Length of Bwd Packets', ' Fwd Packet Length Max', ' Fwd Packet Length Min', ' Fwd Packet Length Mean', ' Fwd Packet Length Std', 'Bwd Packet Length Max', ' Bwd Packet Length Min', ' Bwd Packet Length Mean', ' Bwd Packet Length Std', ' Flow IAT Mean', ' Flow IAT Std', ' Flow IAT Max', ' Flow IAT Min', 'Fwd IAT Total', ' Fwd IAT Mean', ' Fwd IAT Std', ' Fwd IAT Max', ' Fwd IAT Min', 'Bwd IAT Total', ' Bwd IAT Mean', ' Bwd IAT Std', ' Bwd IAT Max', ' Bwd IAT Min', 'Fwd PSH Flags', ' Bwd PSH Flags', ' Fwd URG Flags', ' Bwd URG Flags', ' Fwd Header Length', ' Bwd Header Length', 'Fwd Packets/s', ' Bwd Packets/s', ' Min Packet Length', ' Max Packet Length', ' Packet Length Mean', ' Packet Length Std', ' Packet Length Variance', 'FIN Flag Count', ' SYN Flag Count', ' RST Flag Count', ' PSH Flag Count', ' ACK Flag Count', ' URG Flag Count', ' CWE Flag Count', ' ECE Flag Count', ' Down/Up Ratio', ' Average Packet Size', ' Avg Fwd Segment Size', ' Avg Bwd Segment Size', ' Fwd Header Length.1', 'Fwd Avg Bytes/Bulk', ' Fwd Avg Packets/Bulk', ' Fwd Avg Bulk Rate', ' Bwd Avg Bytes/Bulk', ' Bwd Avg Packets/Bulk', 'Bwd Avg Bulk Rate', 'Subflow Fwd Packets', ' Subflow Fwd Bytes', ' Subflow Bwd Packets', ' Subflow Bwd Bytes', 'Init_Win_bytes_forward', ' Init_Win_bytes_backward', ' act_data_pkt_fwd', ' min_seg_size_forward', 'Active Mean', ' Active Std', ' Active Max', ' Active Min', 'Idle Mean', ' Idle Std', ' Idle Max', ' Idle Min']\n"
     ]
    }
   ],
   "source": [
    "colNames=list(X_df_train)\n",
    "colNames_test=list(X_df_test)\n",
    "X_df_train.shape\n",
    "print(colNames)"
   ]
  },
  {
   "cell_type": "code",
   "execution_count": 45,
   "id": "6ffa9a37",
   "metadata": {},
   "outputs": [
    {
     "name": "stdout",
     "output_type": "stream",
     "text": [
      "         Destination Port   Flow Duration   Total Fwd Packets  \\\n",
      "82357                  80         8690149                   7   \n",
      "165849              59176         8007924                   1   \n",
      "195170              50297        12654906                   1   \n",
      "16696                  53             470                   1   \n",
      "25669                  80           47049                   4   \n",
      "...                   ...             ...                 ...   \n",
      "117498                 80          450400                   3   \n",
      "70832               58281        12091889                   1   \n",
      "119871                 53             499                   1   \n",
      "145484                 80         1658380                   3   \n",
      "148967                 80         2214098                   4   \n",
      "\n",
      "         Total Backward Packets  Total Length of Fwd Packets  \\\n",
      "82357                         4                           50   \n",
      "165849                        6                            6   \n",
      "195170                        7                            6   \n",
      "16696                         1                           62   \n",
      "25669                         0                           24   \n",
      "...                         ...                          ...   \n",
      "117498                        5                           26   \n",
      "70832                         5                            6   \n",
      "119871                        1                           44   \n",
      "145484                        5                           26   \n",
      "148967                        0                           24   \n",
      "\n",
      "         Total Length of Bwd Packets   Fwd Packet Length Max  \\\n",
      "82357                          11601                      20   \n",
      "165849                            36                       6   \n",
      "195170                            42                       6   \n",
      "16696                            121                      62   \n",
      "25669                              0                       6   \n",
      "...                              ...                     ...   \n",
      "117498                         11607                      20   \n",
      "70832                             30                       6   \n",
      "119871                            93                      44   \n",
      "145484                         11607                      20   \n",
      "148967                             0                       6   \n",
      "\n",
      "         Fwd Packet Length Min   Fwd Packet Length Mean  \\\n",
      "82357                        0                 7.142857   \n",
      "165849                       6                 6.000000   \n",
      "195170                       6                 6.000000   \n",
      "16696                       62                62.000000   \n",
      "25669                        6                 6.000000   \n",
      "...                        ...                      ...   \n",
      "117498                       0                 8.666667   \n",
      "70832                        6                 6.000000   \n",
      "119871                      44                44.000000   \n",
      "145484                       0                 8.666667   \n",
      "148967                       6                 6.000000   \n",
      "\n",
      "         Fwd Packet Length Std  ...   act_data_pkt_fwd   min_seg_size_forward  \\\n",
      "82357                 6.094494  ...                  5                     20   \n",
      "165849                0.000000  ...                  0                     20   \n",
      "195170                0.000000  ...                  0                     20   \n",
      "16696                 0.000000  ...                  0                     32   \n",
      "25669                 0.000000  ...                  3                     20   \n",
      "...                        ...  ...                ...                    ...   \n",
      "117498               10.263203  ...                  2                     20   \n",
      "70832                 0.000000  ...                  0                     20   \n",
      "119871                0.000000  ...                  0                     32   \n",
      "145484               10.263203  ...                  2                     20   \n",
      "148967                0.000000  ...                  3                     20   \n",
      "\n",
      "        Active Mean   Active Std   Active Max   Active Min   Idle Mean  \\\n",
      "82357      679348.0          0.0       679348       679348   6297853.0   \n",
      "165849      34495.0          0.0        34495        34495   7973429.0   \n",
      "195170      27217.0          0.0        27217        27217  12600000.0   \n",
      "16696           0.0          0.0            0            0         0.0   \n",
      "25669           0.0          0.0            0            0         0.0   \n",
      "...             ...          ...          ...          ...         ...   \n",
      "117498          0.0          0.0            0            0         0.0   \n",
      "70832       27686.0          0.0        27686        27686  12100000.0   \n",
      "119871          0.0          0.0            0            0         0.0   \n",
      "145484          0.0          0.0            0            0         0.0   \n",
      "148967          0.0          0.0            0            0         0.0   \n",
      "\n",
      "         Idle Std   Idle Max   Idle Min  \n",
      "82357         0.0    6297853    6297853  \n",
      "165849        0.0    7973429    7973429  \n",
      "195170        0.0   12600000   12600000  \n",
      "16696         0.0          0          0  \n",
      "25669         0.0          0          0  \n",
      "...           ...        ...        ...  \n",
      "117498        0.0          0          0  \n",
      "70832         0.0   12100000   12100000  \n",
      "119871        0.0          0          0  \n",
      "145484        0.0          0          0  \n",
      "148967        0.0          0          0  \n",
      "\n",
      "[180592 rows x 76 columns]\n"
     ]
    }
   ],
   "source": [
    "print(X_df_train)\n",
    "from sklearn import preprocessing\n",
    "scaler1 = preprocessing.StandardScaler().fit(X_df_train)\n",
    "X_df_train=scaler1.transform(X_df_train) \n",
    "# test data\n",
    "scaler2 = preprocessing.StandardScaler().fit(X_df_test)\n",
    "X_df_test=scaler2.transform(X_df_test) "
   ]
  },
  {
   "cell_type": "code",
   "execution_count": 46,
   "id": "89c08d66",
   "metadata": {},
   "outputs": [
    {
     "name": "stdout",
     "output_type": "stream",
     "text": [
      "[1. 1. 1. 1. 1. 1. 1. 1. 1. 1. 1. 1. 1. 1. 1. 1. 1. 1. 1. 1. 1. 1. 1. 1.\n",
      " 1. 1. 1. 1. 1. 0. 0. 0. 1. 1. 1. 1. 1. 1. 1. 1. 1. 1. 1. 1. 1. 1. 1. 0.\n",
      " 1. 1. 1. 1. 1. 1. 0. 0. 0. 0. 0. 0. 1. 1. 1. 1. 1. 1. 1. 1. 1. 1. 1. 1.\n",
      " 1. 1. 1. 1.]\n"
     ]
    }
   ],
   "source": [
    "print(X_df_train.std(axis=0))"
   ]
  },
  {
   "cell_type": "code",
   "execution_count": 47,
   "id": "2b131007",
   "metadata": {},
   "outputs": [
    {
     "name": "stderr",
     "output_type": "stream",
     "text": [
      "/Users/buseyarentekin/opt/anaconda3/envs/reinforcementenv/lib/python3.6/site-packages/sklearn/feature_selection/_univariate_selection.py:115: UserWarning: Features [29 30 31 47 54 55 56 57 58 59] are constant.\n",
      "  UserWarning)\n"
     ]
    },
    {
     "data": {
      "text/plain": [
       "(180592, 8)"
      ]
     },
     "execution_count": 47,
     "metadata": {},
     "output_type": "execute_result"
    }
   ],
   "source": [
    "from sklearn.feature_selection import SelectPercentile, f_classif\n",
    "np.seterr(divide='ignore', invalid='ignore')\n",
    "selector=SelectPercentile(f_classif, percentile=10)\n",
    "X_newdf_train = selector.fit_transform(X_df_train,Y_df_train)\n",
    "X_newdf_train.shape"
   ]
  },
  {
   "cell_type": "code",
   "execution_count": 48,
   "id": "5bd59647",
   "metadata": {},
   "outputs": [
    {
     "data": {
      "text/plain": [
       "[' Destination Port',\n",
       " 'Bwd Packet Length Max',\n",
       " ' Bwd Packet Length Mean',\n",
       " ' Bwd Packet Length Std',\n",
       " ' Packet Length Mean',\n",
       " ' URG Flag Count',\n",
       " ' Average Packet Size',\n",
       " ' Avg Bwd Segment Size']"
      ]
     },
     "execution_count": 48,
     "metadata": {},
     "output_type": "execute_result"
    }
   ],
   "source": [
    "true=selector.get_support()\n",
    "newcolindex_DDoS=[i for i, x in enumerate(true) if x]\n",
    "newcolname_DDoS=list( colNames[i] for i in newcolindex_DDoS )\n",
    "newcolname_DDoS"
   ]
  },
  {
   "cell_type": "code",
   "execution_count": 49,
   "id": "43659d58",
   "metadata": {},
   "outputs": [
    {
     "name": "stdout",
     "output_type": "stream",
     "text": [
      "Features selected for DDoS: [' Destination Port', 'Bwd Packet Length Max', ' Bwd Packet Length Mean', ' Bwd Packet Length Std', ' Packet Length Mean', ' URG Flag Count', ' Average Packet Size', ' Avg Bwd Segment Size']\n"
     ]
    }
   ],
   "source": [
    "print('Features selected for DDoS:',newcolname_DDoS)"
   ]
  },
  {
   "cell_type": "code",
   "execution_count": 50,
   "id": "6e0e8fd9",
   "metadata": {},
   "outputs": [
    {
     "data": {
      "text/plain": [
       "'from sklearn import preprocessing\\nfrom sklearn import utils\\n\\nlab_enc = preprocessing.LabelEncoder()\\nencoded = lab_enc.fit_transform(Y_df_train) '"
      ]
     },
     "execution_count": 50,
     "metadata": {},
     "output_type": "execute_result"
    }
   ],
   "source": [
    "'''from sklearn import preprocessing\n",
    "from sklearn import utils\n",
    "\n",
    "lab_enc = preprocessing.LabelEncoder()\n",
    "encoded = lab_enc.fit_transform(Y_df_train) '''"
   ]
  },
  {
   "cell_type": "code",
   "execution_count": 51,
   "id": "0c568ffe",
   "metadata": {},
   "outputs": [],
   "source": [
    "Y_df_train=Y_df_train.astype('int')"
   ]
  },
  {
   "cell_type": "code",
   "execution_count": 52,
   "id": "30c4a363",
   "metadata": {},
   "outputs": [
    {
     "name": "stdout",
     "output_type": "stream",
     "text": [
      "DDoS Features sorted by their rank:\n",
      "[(1, ' Destination Port'), (2, ' Average Packet Size'), (3, ' Packet Length Mean'), (4, ' Bwd Packet Length Std'), (5, ' Bwd Packet Length Mean'), (6, ' Avg Bwd Segment Size'), (7, ' URG Flag Count'), (8, 'Bwd Packet Length Max')]\n"
     ]
    }
   ],
   "source": [
    "from sklearn.feature_selection import RFE\n",
    "from sklearn.tree import DecisionTreeClassifier\n",
    "# Create a decision tree classifier. By convention, clf means 'classifier'\n",
    "clf = DecisionTreeClassifier(random_state=0)\n",
    "\n",
    "#rank all features, i.e continue the elimination until the last one\n",
    "rfe = RFE(clf, n_features_to_select=1)\n",
    "rfe.fit(X_newdf_train, Y_df_train)\n",
    "print (\"DDoS Features sorted by their rank:\")\n",
    "print (sorted(zip(map(lambda x: round(x, 1), rfe.ranking_), newcolname_DDoS)))"
   ]
  },
  {
   "cell_type": "code",
   "execution_count": 53,
   "id": "c24699f9",
   "metadata": {},
   "outputs": [],
   "source": [
    "from sklearn.feature_selection import RFE\n",
    "clf = DecisionTreeClassifier(random_state=0)\n",
    "rfe = RFE(estimator=clf, n_features_to_select=8, step=1)\n",
    "rfe.fit(X_df_train, Y_df_train)\n",
    "X_rfeDDoS=rfe.transform(X_df_train)\n",
    "true=rfe.support_\n",
    "rfecolindex_DDoS=[i for i, x in enumerate(true) if x]\n",
    "rfecolname_DDoS=list(colNames[i] for i in rfecolindex_DDoS)"
   ]
  },
  {
   "cell_type": "code",
   "execution_count": 54,
   "id": "1766cbaf",
   "metadata": {},
   "outputs": [
    {
     "name": "stdout",
     "output_type": "stream",
     "text": [
      "Features selected for DDoS: [' Destination Port', 'Total Length of Fwd Packets', ' Fwd Packet Length Max', ' Bwd Packet Length Mean', ' Flow IAT Std', ' Fwd IAT Min', 'Init_Win_bytes_forward', ' Init_Win_bytes_backward']\n"
     ]
    }
   ],
   "source": [
    "print('Features selected for DDoS:',rfecolname_DDoS)"
   ]
  },
  {
   "cell_type": "code",
   "execution_count": 55,
   "id": "07659853",
   "metadata": {},
   "outputs": [
    {
     "name": "stdout",
     "output_type": "stream",
     "text": [
      "(180592, 8)\n"
     ]
    }
   ],
   "source": [
    "print(X_rfeDDoS.shape)"
   ]
  },
  {
   "cell_type": "code",
   "execution_count": 56,
   "id": "2730df5f",
   "metadata": {},
   "outputs": [
    {
     "data": {
      "text/plain": [
       "DecisionTreeClassifier(random_state=0)"
      ]
     },
     "execution_count": 56,
     "metadata": {},
     "output_type": "execute_result"
    }
   ],
   "source": [
    "# all features\n",
    "clf_DDoS=DecisionTreeClassifier(random_state=0)\n",
    "clf_DDoS.fit(X_df_train, Y_df_train)"
   ]
  },
  {
   "cell_type": "code",
   "execution_count": 57,
   "id": "2bf2ff23",
   "metadata": {},
   "outputs": [
    {
     "data": {
      "text/plain": [
       "DecisionTreeClassifier(random_state=0)"
      ]
     },
     "execution_count": 57,
     "metadata": {},
     "output_type": "execute_result"
    }
   ],
   "source": [
    "#selected features\n",
    "clf_rfeDDoS=DecisionTreeClassifier(random_state=0)\n",
    "clf_rfeDDoS.fit(X_rfeDDoS, Y_df_train)"
   ]
  },
  {
   "cell_type": "code",
   "execution_count": 58,
   "id": "18a6ac16",
   "metadata": {},
   "outputs": [
    {
     "data": {
      "text/html": [
       "<div>\n",
       "<style scoped>\n",
       "    .dataframe tbody tr th:only-of-type {\n",
       "        vertical-align: middle;\n",
       "    }\n",
       "\n",
       "    .dataframe tbody tr th {\n",
       "        vertical-align: top;\n",
       "    }\n",
       "\n",
       "    .dataframe thead th {\n",
       "        text-align: right;\n",
       "    }\n",
       "</style>\n",
       "<table border=\"1\" class=\"dataframe\">\n",
       "  <thead>\n",
       "    <tr style=\"text-align: right;\">\n",
       "      <th>Predicted attacks</th>\n",
       "      <th>0</th>\n",
       "      <th>1</th>\n",
       "    </tr>\n",
       "    <tr>\n",
       "      <th>Actual attacks</th>\n",
       "      <th></th>\n",
       "      <th></th>\n",
       "    </tr>\n",
       "  </thead>\n",
       "  <tbody>\n",
       "    <tr>\n",
       "      <th>0</th>\n",
       "      <td>18738</td>\n",
       "      <td>888</td>\n",
       "    </tr>\n",
       "    <tr>\n",
       "      <th>1</th>\n",
       "      <td>16327</td>\n",
       "      <td>9196</td>\n",
       "    </tr>\n",
       "  </tbody>\n",
       "</table>\n",
       "</div>"
      ],
      "text/plain": [
       "Predicted attacks      0     1\n",
       "Actual attacks                \n",
       "0                  18738   888\n",
       "1                  16327  9196"
      ]
     },
     "execution_count": 58,
     "metadata": {},
     "output_type": "execute_result"
    }
   ],
   "source": [
    "Y_df_train_pred=clf_DDoS.predict(X_df_test)\n",
    "# Create confusion matrix\n",
    "pd.crosstab(Y_df_test, Y_df_train_pred, rownames=['Actual attacks'], colnames=['Predicted attacks'])"
   ]
  },
  {
   "cell_type": "code",
   "execution_count": 59,
   "id": "1fb3dbf8",
   "metadata": {},
   "outputs": [
    {
     "name": "stdout",
     "output_type": "stream",
     "text": [
      "Accuracy: 0.99956 (+/- 0.00052)\n",
      "Precision: 0.99957 (+/- 0.00089)\n",
      "Recall: 0.99965 (+/- 0.00065)\n",
      "F-measure: 0.99961 (+/- 0.00046)\n"
     ]
    }
   ],
   "source": [
    "from sklearn.model_selection import cross_val_score\n",
    "from sklearn import metrics\n",
    "accuracy = cross_val_score(clf_DDoS, X_df_test, Y_df_test, cv=10, scoring='accuracy')\n",
    "print(\"Accuracy: %0.5f (+/- %0.5f)\" % (accuracy.mean(), accuracy.std() * 2))\n",
    "precision = cross_val_score(clf_DDoS, X_df_test, Y_df_test, cv=10, scoring='precision')\n",
    "print(\"Precision: %0.5f (+/- %0.5f)\" % (precision.mean(), precision.std() * 2))\n",
    "recall = cross_val_score(clf_DDoS, X_df_test, Y_df_test, cv=10, scoring='recall')\n",
    "print(\"Recall: %0.5f (+/- %0.5f)\" % (recall.mean(), recall.std() * 2))\n",
    "f = cross_val_score(clf_DDoS, X_df_test, Y_df_test, cv=10, scoring='f1')\n",
    "print(\"F-measure: %0.5f (+/- %0.5f)\" % (f.mean(), f.std() * 2))"
   ]
  },
  {
   "cell_type": "code",
   "execution_count": 61,
   "id": "2e5bcf8f",
   "metadata": {},
   "outputs": [
    {
     "name": "stdout",
     "output_type": "stream",
     "text": [
      "Collecting seaborn\n",
      "  Downloading seaborn-0.11.1-py3-none-any.whl (285 kB)\n",
      "\u001b[K     |████████████████████████████████| 285 kB 798 kB/s eta 0:00:01\n",
      "\u001b[?25hRequirement already satisfied: scipy>=1.0 in /Users/buseyarentekin/opt/anaconda3/envs/reinforcementenv/lib/python3.6/site-packages (from seaborn) (1.5.4)\n",
      "Requirement already satisfied: matplotlib>=2.2 in /Users/buseyarentekin/opt/anaconda3/envs/reinforcementenv/lib/python3.6/site-packages (from seaborn) (3.3.4)\n",
      "Requirement already satisfied: numpy>=1.15 in /Users/buseyarentekin/opt/anaconda3/envs/reinforcementenv/lib/python3.6/site-packages (from seaborn) (1.17.0)\n",
      "Requirement already satisfied: pandas>=0.23 in /Users/buseyarentekin/opt/anaconda3/envs/reinforcementenv/lib/python3.6/site-packages (from seaborn) (1.1.5)\n",
      "Requirement already satisfied: cycler>=0.10 in /Users/buseyarentekin/opt/anaconda3/envs/reinforcementenv/lib/python3.6/site-packages (from matplotlib>=2.2->seaborn) (0.10.0)\n",
      "Requirement already satisfied: python-dateutil>=2.1 in /Users/buseyarentekin/opt/anaconda3/envs/reinforcementenv/lib/python3.6/site-packages (from matplotlib>=2.2->seaborn) (2.8.1)\n",
      "Requirement already satisfied: pillow>=6.2.0 in /Users/buseyarentekin/opt/anaconda3/envs/reinforcementenv/lib/python3.6/site-packages (from matplotlib>=2.2->seaborn) (8.2.0)\n",
      "Requirement already satisfied: kiwisolver>=1.0.1 in /Users/buseyarentekin/opt/anaconda3/envs/reinforcementenv/lib/python3.6/site-packages (from matplotlib>=2.2->seaborn) (1.3.1)\n",
      "Requirement already satisfied: pyparsing!=2.0.4,!=2.1.2,!=2.1.6,>=2.0.3 in /Users/buseyarentekin/opt/anaconda3/envs/reinforcementenv/lib/python3.6/site-packages (from matplotlib>=2.2->seaborn) (2.4.7)\n",
      "Requirement already satisfied: six in /Users/buseyarentekin/opt/anaconda3/envs/reinforcementenv/lib/python3.6/site-packages (from cycler>=0.10->matplotlib>=2.2->seaborn) (1.15.0)\n",
      "Requirement already satisfied: pytz>=2017.2 in /Users/buseyarentekin/opt/anaconda3/envs/reinforcementenv/lib/python3.6/site-packages (from pandas>=0.23->seaborn) (2021.1)\n",
      "Installing collected packages: seaborn\n",
      "Successfully installed seaborn-0.11.1\n",
      "Note: you may need to restart the kernel to use updated packages.\n"
     ]
    }
   ],
   "source": [
    "pip install seaborn"
   ]
  },
  {
   "cell_type": "code",
   "execution_count": 64,
   "id": "0e3b1037",
   "metadata": {},
   "outputs": [],
   "source": [
    "import seaborn as sns\n",
    "import matplotlib.pyplot as plt"
   ]
  },
  {
   "cell_type": "code",
   "execution_count": 110,
   "id": "72e43c29",
   "metadata": {},
   "outputs": [
    {
     "data": {
      "text/plain": [
       "[' Destination Port',\n",
       " 'Bwd Packet Length Max',\n",
       " ' Bwd Packet Length Mean',\n",
       " ' Bwd Packet Length Std',\n",
       " ' Packet Length Mean',\n",
       " ' URG Flag Count',\n",
       " ' Average Packet Size',\n",
       " ' Avg Bwd Segment Size']"
      ]
     },
     "execution_count": 110,
     "metadata": {},
     "output_type": "execute_result"
    }
   ],
   "source": [
    "newcolname_DDoS"
   ]
  },
  {
   "cell_type": "code",
   "execution_count": 127,
   "id": "61f70f20",
   "metadata": {},
   "outputs": [],
   "source": [
    "x=newcolname_DDoS[1]\n",
    "y=newcolname_DDoS[3]"
   ]
  },
  {
   "cell_type": "code",
   "execution_count": 128,
   "id": "965376a7",
   "metadata": {},
   "outputs": [
    {
     "data": {
      "text/html": [
       "<div>\n",
       "<style scoped>\n",
       "    .dataframe tbody tr th:only-of-type {\n",
       "        vertical-align: middle;\n",
       "    }\n",
       "\n",
       "    .dataframe tbody tr th {\n",
       "        vertical-align: top;\n",
       "    }\n",
       "\n",
       "    .dataframe thead th {\n",
       "        text-align: right;\n",
       "    }\n",
       "</style>\n",
       "<table border=\"1\" class=\"dataframe\">\n",
       "  <thead>\n",
       "    <tr style=\"text-align: right;\">\n",
       "      <th></th>\n",
       "      <th>Destination Port</th>\n",
       "      <th>Flow Duration</th>\n",
       "      <th>Total Fwd Packets</th>\n",
       "      <th>Total Backward Packets</th>\n",
       "      <th>Total Length of Fwd Packets</th>\n",
       "      <th>Total Length of Bwd Packets</th>\n",
       "      <th>Fwd Packet Length Max</th>\n",
       "      <th>Fwd Packet Length Min</th>\n",
       "      <th>Fwd Packet Length Mean</th>\n",
       "      <th>Fwd Packet Length Std</th>\n",
       "      <th>...</th>\n",
       "      <th>min_seg_size_forward</th>\n",
       "      <th>Active Mean</th>\n",
       "      <th>Active Std</th>\n",
       "      <th>Active Max</th>\n",
       "      <th>Active Min</th>\n",
       "      <th>Idle Mean</th>\n",
       "      <th>Idle Std</th>\n",
       "      <th>Idle Max</th>\n",
       "      <th>Idle Min</th>\n",
       "      <th>Label</th>\n",
       "    </tr>\n",
       "  </thead>\n",
       "  <tbody>\n",
       "    <tr>\n",
       "      <th>213092</th>\n",
       "      <td>53</td>\n",
       "      <td>31290</td>\n",
       "      <td>4</td>\n",
       "      <td>2</td>\n",
       "      <td>128</td>\n",
       "      <td>180</td>\n",
       "      <td>32</td>\n",
       "      <td>32</td>\n",
       "      <td>32.000000</td>\n",
       "      <td>0.000000</td>\n",
       "      <td>...</td>\n",
       "      <td>20</td>\n",
       "      <td>0.0</td>\n",
       "      <td>0.0</td>\n",
       "      <td>0</td>\n",
       "      <td>0</td>\n",
       "      <td>0.0</td>\n",
       "      <td>0.0</td>\n",
       "      <td>0</td>\n",
       "      <td>0</td>\n",
       "      <td>0</td>\n",
       "    </tr>\n",
       "    <tr>\n",
       "      <th>77480</th>\n",
       "      <td>80</td>\n",
       "      <td>1081443</td>\n",
       "      <td>3</td>\n",
       "      <td>6</td>\n",
       "      <td>26</td>\n",
       "      <td>11601</td>\n",
       "      <td>20</td>\n",
       "      <td>0</td>\n",
       "      <td>8.666667</td>\n",
       "      <td>10.263203</td>\n",
       "      <td>...</td>\n",
       "      <td>20</td>\n",
       "      <td>0.0</td>\n",
       "      <td>0.0</td>\n",
       "      <td>0</td>\n",
       "      <td>0</td>\n",
       "      <td>0.0</td>\n",
       "      <td>0.0</td>\n",
       "      <td>0</td>\n",
       "      <td>0</td>\n",
       "      <td>1</td>\n",
       "    </tr>\n",
       "    <tr>\n",
       "      <th>86740</th>\n",
       "      <td>443</td>\n",
       "      <td>5191787</td>\n",
       "      <td>5</td>\n",
       "      <td>1</td>\n",
       "      <td>123</td>\n",
       "      <td>46</td>\n",
       "      <td>46</td>\n",
       "      <td>0</td>\n",
       "      <td>24.600000</td>\n",
       "      <td>23.276598</td>\n",
       "      <td>...</td>\n",
       "      <td>32</td>\n",
       "      <td>49430.0</td>\n",
       "      <td>0.0</td>\n",
       "      <td>49430</td>\n",
       "      <td>49430</td>\n",
       "      <td>5123800.0</td>\n",
       "      <td>0.0</td>\n",
       "      <td>5123800</td>\n",
       "      <td>5123800</td>\n",
       "      <td>0</td>\n",
       "    </tr>\n",
       "    <tr>\n",
       "      <th>55361</th>\n",
       "      <td>80</td>\n",
       "      <td>1494722</td>\n",
       "      <td>5</td>\n",
       "      <td>0</td>\n",
       "      <td>30</td>\n",
       "      <td>0</td>\n",
       "      <td>6</td>\n",
       "      <td>6</td>\n",
       "      <td>6.000000</td>\n",
       "      <td>0.000000</td>\n",
       "      <td>...</td>\n",
       "      <td>20</td>\n",
       "      <td>0.0</td>\n",
       "      <td>0.0</td>\n",
       "      <td>0</td>\n",
       "      <td>0</td>\n",
       "      <td>0.0</td>\n",
       "      <td>0.0</td>\n",
       "      <td>0</td>\n",
       "      <td>0</td>\n",
       "      <td>1</td>\n",
       "    </tr>\n",
       "    <tr>\n",
       "      <th>148583</th>\n",
       "      <td>80</td>\n",
       "      <td>10423865</td>\n",
       "      <td>4</td>\n",
       "      <td>0</td>\n",
       "      <td>24</td>\n",
       "      <td>0</td>\n",
       "      <td>6</td>\n",
       "      <td>6</td>\n",
       "      <td>6.000000</td>\n",
       "      <td>0.000000</td>\n",
       "      <td>...</td>\n",
       "      <td>20</td>\n",
       "      <td>1179.0</td>\n",
       "      <td>0.0</td>\n",
       "      <td>1179</td>\n",
       "      <td>1179</td>\n",
       "      <td>10400000.0</td>\n",
       "      <td>0.0</td>\n",
       "      <td>10400000</td>\n",
       "      <td>10400000</td>\n",
       "      <td>1</td>\n",
       "    </tr>\n",
       "    <tr>\n",
       "      <th>...</th>\n",
       "      <td>...</td>\n",
       "      <td>...</td>\n",
       "      <td>...</td>\n",
       "      <td>...</td>\n",
       "      <td>...</td>\n",
       "      <td>...</td>\n",
       "      <td>...</td>\n",
       "      <td>...</td>\n",
       "      <td>...</td>\n",
       "      <td>...</td>\n",
       "      <td>...</td>\n",
       "      <td>...</td>\n",
       "      <td>...</td>\n",
       "      <td>...</td>\n",
       "      <td>...</td>\n",
       "      <td>...</td>\n",
       "      <td>...</td>\n",
       "      <td>...</td>\n",
       "      <td>...</td>\n",
       "      <td>...</td>\n",
       "      <td>...</td>\n",
       "    </tr>\n",
       "    <tr>\n",
       "      <th>149332</th>\n",
       "      <td>80</td>\n",
       "      <td>6576791</td>\n",
       "      <td>4</td>\n",
       "      <td>0</td>\n",
       "      <td>24</td>\n",
       "      <td>0</td>\n",
       "      <td>6</td>\n",
       "      <td>6</td>\n",
       "      <td>6.000000</td>\n",
       "      <td>0.000000</td>\n",
       "      <td>...</td>\n",
       "      <td>20</td>\n",
       "      <td>975.0</td>\n",
       "      <td>0.0</td>\n",
       "      <td>975</td>\n",
       "      <td>975</td>\n",
       "      <td>6575816.0</td>\n",
       "      <td>0.0</td>\n",
       "      <td>6575816</td>\n",
       "      <td>6575816</td>\n",
       "      <td>1</td>\n",
       "    </tr>\n",
       "    <tr>\n",
       "      <th>114060</th>\n",
       "      <td>80</td>\n",
       "      <td>9123627</td>\n",
       "      <td>8</td>\n",
       "      <td>6</td>\n",
       "      <td>56</td>\n",
       "      <td>11607</td>\n",
       "      <td>20</td>\n",
       "      <td>0</td>\n",
       "      <td>7.000000</td>\n",
       "      <td>5.656854</td>\n",
       "      <td>...</td>\n",
       "      <td>20</td>\n",
       "      <td>44031.0</td>\n",
       "      <td>0.0</td>\n",
       "      <td>44031</td>\n",
       "      <td>44031</td>\n",
       "      <td>8037552.0</td>\n",
       "      <td>0.0</td>\n",
       "      <td>8037552</td>\n",
       "      <td>8037552</td>\n",
       "      <td>1</td>\n",
       "    </tr>\n",
       "    <tr>\n",
       "      <th>45997</th>\n",
       "      <td>80</td>\n",
       "      <td>11259721</td>\n",
       "      <td>4</td>\n",
       "      <td>0</td>\n",
       "      <td>24</td>\n",
       "      <td>0</td>\n",
       "      <td>6</td>\n",
       "      <td>6</td>\n",
       "      <td>6.000000</td>\n",
       "      <td>0.000000</td>\n",
       "      <td>...</td>\n",
       "      <td>20</td>\n",
       "      <td>1039.0</td>\n",
       "      <td>0.0</td>\n",
       "      <td>1039</td>\n",
       "      <td>1039</td>\n",
       "      <td>11300000.0</td>\n",
       "      <td>0.0</td>\n",
       "      <td>11300000</td>\n",
       "      <td>11300000</td>\n",
       "      <td>1</td>\n",
       "    </tr>\n",
       "    <tr>\n",
       "      <th>28686</th>\n",
       "      <td>80</td>\n",
       "      <td>82197</td>\n",
       "      <td>3</td>\n",
       "      <td>6</td>\n",
       "      <td>26</td>\n",
       "      <td>11607</td>\n",
       "      <td>20</td>\n",
       "      <td>0</td>\n",
       "      <td>8.666667</td>\n",
       "      <td>10.263203</td>\n",
       "      <td>...</td>\n",
       "      <td>20</td>\n",
       "      <td>0.0</td>\n",
       "      <td>0.0</td>\n",
       "      <td>0</td>\n",
       "      <td>0</td>\n",
       "      <td>0.0</td>\n",
       "      <td>0.0</td>\n",
       "      <td>0</td>\n",
       "      <td>0</td>\n",
       "      <td>1</td>\n",
       "    </tr>\n",
       "    <tr>\n",
       "      <th>171288</th>\n",
       "      <td>80</td>\n",
       "      <td>1248950</td>\n",
       "      <td>4</td>\n",
       "      <td>0</td>\n",
       "      <td>24</td>\n",
       "      <td>0</td>\n",
       "      <td>6</td>\n",
       "      <td>6</td>\n",
       "      <td>6.000000</td>\n",
       "      <td>0.000000</td>\n",
       "      <td>...</td>\n",
       "      <td>20</td>\n",
       "      <td>0.0</td>\n",
       "      <td>0.0</td>\n",
       "      <td>0</td>\n",
       "      <td>0</td>\n",
       "      <td>0.0</td>\n",
       "      <td>0.0</td>\n",
       "      <td>0</td>\n",
       "      <td>0</td>\n",
       "      <td>1</td>\n",
       "    </tr>\n",
       "  </tbody>\n",
       "</table>\n",
       "<p>1000 rows × 77 columns</p>\n",
       "</div>"
      ],
      "text/plain": [
       "         Destination Port   Flow Duration   Total Fwd Packets  \\\n",
       "213092                 53           31290                   4   \n",
       "77480                  80         1081443                   3   \n",
       "86740                 443         5191787                   5   \n",
       "55361                  80         1494722                   5   \n",
       "148583                 80        10423865                   4   \n",
       "...                   ...             ...                 ...   \n",
       "149332                 80         6576791                   4   \n",
       "114060                 80         9123627                   8   \n",
       "45997                  80        11259721                   4   \n",
       "28686                  80           82197                   3   \n",
       "171288                 80         1248950                   4   \n",
       "\n",
       "         Total Backward Packets  Total Length of Fwd Packets  \\\n",
       "213092                        2                          128   \n",
       "77480                         6                           26   \n",
       "86740                         1                          123   \n",
       "55361                         0                           30   \n",
       "148583                        0                           24   \n",
       "...                         ...                          ...   \n",
       "149332                        0                           24   \n",
       "114060                        6                           56   \n",
       "45997                         0                           24   \n",
       "28686                         6                           26   \n",
       "171288                        0                           24   \n",
       "\n",
       "         Total Length of Bwd Packets   Fwd Packet Length Max  \\\n",
       "213092                           180                      32   \n",
       "77480                          11601                      20   \n",
       "86740                             46                      46   \n",
       "55361                              0                       6   \n",
       "148583                             0                       6   \n",
       "...                              ...                     ...   \n",
       "149332                             0                       6   \n",
       "114060                         11607                      20   \n",
       "45997                              0                       6   \n",
       "28686                          11607                      20   \n",
       "171288                             0                       6   \n",
       "\n",
       "         Fwd Packet Length Min   Fwd Packet Length Mean  \\\n",
       "213092                      32                32.000000   \n",
       "77480                        0                 8.666667   \n",
       "86740                        0                24.600000   \n",
       "55361                        6                 6.000000   \n",
       "148583                       6                 6.000000   \n",
       "...                        ...                      ...   \n",
       "149332                       6                 6.000000   \n",
       "114060                       0                 7.000000   \n",
       "45997                        6                 6.000000   \n",
       "28686                        0                 8.666667   \n",
       "171288                       6                 6.000000   \n",
       "\n",
       "         Fwd Packet Length Std  ...   min_seg_size_forward  Active Mean  \\\n",
       "213092                0.000000  ...                     20          0.0   \n",
       "77480                10.263203  ...                     20          0.0   \n",
       "86740                23.276598  ...                     32      49430.0   \n",
       "55361                 0.000000  ...                     20          0.0   \n",
       "148583                0.000000  ...                     20       1179.0   \n",
       "...                        ...  ...                    ...          ...   \n",
       "149332                0.000000  ...                     20        975.0   \n",
       "114060                5.656854  ...                     20      44031.0   \n",
       "45997                 0.000000  ...                     20       1039.0   \n",
       "28686                10.263203  ...                     20          0.0   \n",
       "171288                0.000000  ...                     20          0.0   \n",
       "\n",
       "         Active Std   Active Max   Active Min   Idle Mean   Idle Std  \\\n",
       "213092          0.0            0            0         0.0        0.0   \n",
       "77480           0.0            0            0         0.0        0.0   \n",
       "86740           0.0        49430        49430   5123800.0        0.0   \n",
       "55361           0.0            0            0         0.0        0.0   \n",
       "148583          0.0         1179         1179  10400000.0        0.0   \n",
       "...             ...          ...          ...         ...        ...   \n",
       "149332          0.0          975          975   6575816.0        0.0   \n",
       "114060          0.0        44031        44031   8037552.0        0.0   \n",
       "45997           0.0         1039         1039  11300000.0        0.0   \n",
       "28686           0.0            0            0         0.0        0.0   \n",
       "171288          0.0            0            0         0.0        0.0   \n",
       "\n",
       "         Idle Max   Idle Min   Label  \n",
       "213092          0          0       0  \n",
       "77480           0          0       1  \n",
       "86740     5123800    5123800       0  \n",
       "55361           0          0       1  \n",
       "148583   10400000   10400000       1  \n",
       "...           ...        ...     ...  \n",
       "149332    6575816    6575816       1  \n",
       "114060    8037552    8037552       1  \n",
       "45997    11300000   11300000       1  \n",
       "28686           0          0       1  \n",
       "171288          0          0       1  \n",
       "\n",
       "[1000 rows x 77 columns]"
      ]
     },
     "execution_count": 128,
     "metadata": {},
     "output_type": "execute_result"
    }
   ],
   "source": [
    "df_2 =df_test.iloc[:1000]\n",
    "df_2"
   ]
  },
  {
   "cell_type": "code",
   "execution_count": 130,
   "id": "4eec6290",
   "metadata": {},
   "outputs": [
    {
     "data": {
      "image/png": "[encoded data removed]",
      "text/plain": [
       "<Figure size 432x288 with 1 Axes>"
      ]
     },
     "metadata": {
      "needs_background": "light"
     },
     "output_type": "display_data"
    },
    {
     "data": {
      "text/plain": [
       "<Figure size 432x288 with 0 Axes>"
      ]
     },
     "metadata": {},
     "output_type": "display_data"
    }
   ],
   "source": [
    "sns.scatterplot(data = df, x = x, y = y)\n",
    "plt.show()\n",
    "plt.savefig('Visualize-DestinationvsBwdPacketLength.jpg')"
   ]
  },
  {
   "cell_type": "code",
   "execution_count": null,
   "id": "1813ccb8",
   "metadata": {},
   "outputs": [],
   "source": []
  }
 ],
 "metadata": {
  "kernelspec": {
   "display_name": "Python 3",
   "language": "python",
   "name": "python3"
  },
  "language_info": {
   "codemirror_mode": {
    "name": "ipython",
    "version": 3
   },
   "file_extension": ".py",
   "mimetype": "text/x-python",
   "name": "python",
   "nbconvert_exporter": "python",
   "pygments_lexer": "ipython3",
   "version": "3.6.13"
  }
 },
 "nbformat": 4,
 "nbformat_minor": 5
}
